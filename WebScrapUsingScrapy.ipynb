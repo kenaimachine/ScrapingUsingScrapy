{
 "cells": [
  {
   "cell_type": "markdown",
   "metadata": {},
   "source": [
    "### Using python Scrapy module to design a web scraping program to get the content from the following website\n",
    "\n",
    "https://webscraper.io/test-sites/e-commerce/allinone/computers/tablets\n",
    "\n",
    "This is a website for testing web scraping, this given URL link to a computer eCommerce store selling different models of tablets.\n",
    "\n",
    "The task is to collect information on all the tablets list on the webpage.\n",
    " \n",
    "The information to be collected are product, description, price, and review for each of the tablets.\n",
    "You are supposed to program your code using the focus spider\n",
    "class( scrapy.Spider ) in python.\n",
    "The result of the scraped data must store in a JSON format file as listed below:\n",
    "```\n",
    "{\"price\": [\"$603.99\"], \"description\": [\"Wi-Fi, 64GB, Silver\"], \"product\": \"Apple iPad Air\", \"review\": \"7 reviews\"}\n",
    "{\"price\": [\"$172.99\"], \"description\": [\"Silver, 7\" IPS, Quad-Core 1.2Ghz, 16GB, 3G, Android 4.2\"], \"product\": \"IdeaTab S5000\", \"review\": \"8 reviews\"}\n",
    "{\"price\": [\"$148.99\"], \"description\": [\"Blue, 7\" IPS, Quad-Core 1.3GHz, 8GB, 3G, Android 4.2\"], \"product\": \"IdeaTab A3500-H\", \"review\": \"9 reviews\"}\n",
    "{\"price\": [\"$233.99\"], \"description\": [\"LTE (SM-T235), Quad-Core 1.2GHz, 8GB, Black\"], \"product\": \"Galaxy Tab 4\", \"review\": \"1 reviews\"}\n",
    "{\"price\": [\"$399.99\"], \"description\": [\"10.1\", 3G, Android 4.0, Garnet Red\"], \"product\": \"Galaxy Note\", \"review\": \"12 reviews\"}\n",
    "```\n",
    "\n",
    "\n",
    "#### Create a python function to search for Android or Apple Tablet information. \n",
    "\n",
    "Function name: searchbybrand( string)\n",
    "\n",
    "Argument: string -> android or apple\n",
    "\n",
    "Return result: list of all matched item( with product, description, price, reviews)\n"
   ]
  },
  {
   "cell_type": "code",
   "execution_count": 1,
   "metadata": {},
   "outputs": [],
   "source": [
    "import lxml.etree\n",
    "\n",
    "import json\n",
    "\n",
    "class JsonPipeline(object):\n",
    "    def open_spider(self, spider):\n",
    "        self.file = open('result.json', 'w')\n",
    "\n",
    "    def close_spider(self, spider):\n",
    "        print('JSON File Generated')\n",
    "        self.file.close()\n",
    "\n",
    "    def process_item(self, item, spider):\n",
    "        display(item)\n",
    "        line = json.dumps(dict(item)) + \"\\n\"\n",
    "        self.file.write(line)\n",
    "        return item"
   ]
  },
  {
   "cell_type": "code",
   "execution_count": 2,
   "metadata": {},
   "outputs": [],
   "source": [
    "import logging\n",
    "import scrapy\n",
    "from scrapy.crawler import CrawlerProcess\n",
    "\n",
    "class InfoSpider(scrapy.Spider):\n",
    "    name = \"info\"\n",
    "    start_urls = [\n",
    "        'https://webscraper.io/test-sites/e-commerce/allinone/computers/tablets'\n",
    "    ]\n",
    "    custom_settings = {\n",
    "        'LOG_LEVEL': logging.WARNING,                            # Default : Debug\n",
    "        'ITEM_PIPELINES': {'__main__.JsonPipeline': 1} # Used for pipeline\n",
    "    }\n",
    "    \n",
    "    def parse(self, response):\n",
    "        for itm in response.css(\"div[class='col-sm-4 col-lg-4 col-md-4']\"):\n",
    "            yield {\n",
    "                'price': itm.css(\"h4[class='pull-right price']::text\").getall(),\n",
    "                'description': itm.css(\"p[class='description']::text\").getall(),\n",
    "                'product': itm.css('h4 a::attr(title)').get(),\n",
    "                'review': itm.css(\"div.ratings p[class='pull-right']::text\").get(),\n",
    "\n",
    "\n",
    "            }\n"
   ]
  },
  {
   "cell_type": "code",
   "execution_count": 3,
   "metadata": {},
   "outputs": [
    {
     "name": "stderr",
     "output_type": "stream",
     "text": [
      "2020-06-29 12:39:45 [scrapy.utils.log] INFO: Scrapy 2.1.0 started (bot: scrapybot)\n",
      "2020-06-29 12:39:45 [scrapy.utils.log] INFO: Versions: lxml 4.5.0.0, libxml2 2.9.9, cssselect 1.1.0, parsel 1.6.0, w3lib 1.22.0, Twisted 20.3.0, Python 3.7.7 (default, Mar 26 2020, 10:32:53) - [Clang 4.0.1 (tags/RELEASE_401/final)], pyOpenSSL 19.1.0 (OpenSSL 1.1.1f  31 Mar 2020), cryptography 2.8, Platform Darwin-19.5.0-x86_64-i386-64bit\n",
      "2020-06-29 12:39:45 [scrapy.utils.log] DEBUG: Using reactor: twisted.internet.selectreactor.SelectReactor\n",
      "2020-06-29 12:39:45 [scrapy.crawler] INFO: Overridden settings:\n",
      "{'LOG_LEVEL': 30,\n",
      " 'USER_AGENT': 'Mozilla/5.0 (compatible; MSIE 7.0; Windows NT 5.1)'}\n"
     ]
    },
    {
     "data": {
      "text/plain": [
       "{'price': ['$69.99'],\n",
       " 'description': ['7\" screen, Android'],\n",
       " 'product': 'Lenovo IdeaTab',\n",
       " 'review': '7 reviews'}"
      ]
     },
     "metadata": {},
     "output_type": "display_data"
    },
    {
     "data": {
      "text/plain": [
       "{'price': ['$88.99'],\n",
       " 'description': ['Black, 7\" IPS, Quad-Core 1.2GHz, 8GB, Android 4.2'],\n",
       " 'product': 'IdeaTab A3500L',\n",
       " 'review': '7 reviews'}"
      ]
     },
     "metadata": {},
     "output_type": "display_data"
    },
    {
     "data": {
      "text/plain": [
       "{'price': ['$96.99'],\n",
       " 'description': ['7\" screen, Android, 16GB'],\n",
       " 'product': 'Acer Iconia',\n",
       " 'review': '7 reviews'}"
      ]
     },
     "metadata": {},
     "output_type": "display_data"
    },
    {
     "data": {
      "text/plain": [
       "{'price': ['$97.99'],\n",
       " 'description': ['7\", 8GB, Wi-Fi, Android 4.2, White'],\n",
       " 'product': 'Galaxy Tab 3',\n",
       " 'review': '2 reviews'}"
      ]
     },
     "metadata": {},
     "output_type": "display_data"
    },
    {
     "data": {
      "text/plain": [
       "{'price': ['$99.99'],\n",
       " 'description': ['Black, 7\", 1.6GHz Dual-Core, 8GB, Android 4.4'],\n",
       " 'product': 'Iconia B1-730HD',\n",
       " 'review': '1 reviews'}"
      ]
     },
     "metadata": {},
     "output_type": "display_data"
    },
    {
     "data": {
      "text/plain": [
       "{'price': ['$101.99'],\n",
       " 'description': ['IPS, Dual-Core 1.2GHz, 8GB, Android 4.3'],\n",
       " 'product': 'Memo Pad HD 7',\n",
       " 'review': '10 reviews'}"
      ]
     },
     "metadata": {},
     "output_type": "display_data"
    },
    {
     "data": {
      "text/plain": [
       "{'price': ['$102.99'],\n",
       " 'description': ['7\" screen, Android, 8GB'],\n",
       " 'product': 'Asus MeMO Pad',\n",
       " 'review': '14 reviews'}"
      ]
     },
     "metadata": {},
     "output_type": "display_data"
    },
    {
     "data": {
      "text/plain": [
       "{'price': ['$103.99'],\n",
       " 'description': ['6\" screen, wifi'],\n",
       " 'product': 'Amazon Kindle',\n",
       " 'review': '3 reviews'}"
      ]
     },
     "metadata": {},
     "output_type": "display_data"
    },
    {
     "data": {
      "text/plain": [
       "{'price': ['$107.99'],\n",
       " 'description': ['7\", 8GB, Wi-Fi, Android 4.2, Yellow'],\n",
       " 'product': 'Galaxy Tab 3',\n",
       " 'review': '14 reviews'}"
      ]
     },
     "metadata": {},
     "output_type": "display_data"
    },
    {
     "data": {
      "text/plain": [
       "{'price': ['$121.99'],\n",
       " 'description': ['Blue, 8\" IPS, Quad-Core 1.3GHz, 16GB, Android 4.2'],\n",
       " 'product': 'IdeaTab A8-50',\n",
       " 'review': '13 reviews'}"
      ]
     },
     "metadata": {},
     "output_type": "display_data"
    },
    {
     "data": {
      "text/plain": [
       "{'price': ['$130.99'],\n",
       " 'description': ['White, 7\", Atom 1.2GHz, 8GB, Android 4.4'],\n",
       " 'product': 'MeMO Pad 7',\n",
       " 'review': '11 reviews'}"
      ]
     },
     "metadata": {},
     "output_type": "display_data"
    },
    {
     "data": {
      "text/plain": [
       "{'price': ['$148.99'],\n",
       " 'description': ['Blue, 7\" IPS, Quad-Core 1.3GHz, 8GB, 3G, Android 4.2'],\n",
       " 'product': 'IdeaTab A3500-H',\n",
       " 'review': '9 reviews'}"
      ]
     },
     "metadata": {},
     "output_type": "display_data"
    },
    {
     "data": {
      "text/plain": [
       "{'price': ['$172.99'],\n",
       " 'description': ['Silver, 7\" IPS, Quad-Core 1.2Ghz, 16GB, 3G, Android 4.2'],\n",
       " 'product': 'IdeaTab S5000',\n",
       " 'review': '8 reviews'}"
      ]
     },
     "metadata": {},
     "output_type": "display_data"
    },
    {
     "data": {
      "text/plain": [
       "{'price': ['$233.99'],\n",
       " 'description': ['LTE (SM-T235), Quad-Core 1.2GHz, 8GB, Black'],\n",
       " 'product': 'Galaxy Tab 4',\n",
       " 'review': '1 reviews'}"
      ]
     },
     "metadata": {},
     "output_type": "display_data"
    },
    {
     "data": {
      "text/plain": [
       "{'price': ['$251.99'],\n",
       " 'description': ['16GB, White'],\n",
       " 'product': 'Galaxy Tab',\n",
       " 'review': '14 reviews'}"
      ]
     },
     "metadata": {},
     "output_type": "display_data"
    },
    {
     "data": {
      "text/plain": [
       "{'price': ['$320.99'],\n",
       " 'description': ['White, 10.1\" IPS, 1.6GHz, 2GB, 16GB, Android 4.2'],\n",
       " 'product': 'MeMo PAD FHD 10',\n",
       " 'review': '7 reviews'}"
      ]
     },
     "metadata": {},
     "output_type": "display_data"
    },
    {
     "data": {
      "text/plain": [
       "{'price': ['$399.99'],\n",
       " 'description': ['10.1\", 3G, Android 4.0, Garnet Red'],\n",
       " 'product': 'Galaxy Note',\n",
       " 'review': '12 reviews'}"
      ]
     },
     "metadata": {},
     "output_type": "display_data"
    },
    {
     "data": {
      "text/plain": [
       "{'price': ['$489.99'],\n",
       " 'description': ['12.2\", 32GB, WiFi, Android 4.4, White'],\n",
       " 'product': 'Galaxy Note',\n",
       " 'review': '9 reviews'}"
      ]
     },
     "metadata": {},
     "output_type": "display_data"
    },
    {
     "data": {
      "text/plain": [
       "{'price': ['$537.99'],\n",
       " 'description': ['Wi-Fi + Cellular, 32GB, Silver'],\n",
       " 'product': 'iPad Mini Retina',\n",
       " 'review': '8 reviews'}"
      ]
     },
     "metadata": {},
     "output_type": "display_data"
    },
    {
     "data": {
      "text/plain": [
       "{'price': ['$587.99'],\n",
       " 'description': ['10.1\", 32GB, Black'],\n",
       " 'product': 'Galaxy Note 10.1',\n",
       " 'review': '6 reviews'}"
      ]
     },
     "metadata": {},
     "output_type": "display_data"
    },
    {
     "data": {
      "text/plain": [
       "{'price': ['$603.99'],\n",
       " 'description': ['Wi-Fi, 64GB, Silver'],\n",
       " 'product': 'Apple iPad Air',\n",
       " 'review': '7 reviews'}"
      ]
     },
     "metadata": {},
     "output_type": "display_data"
    },
    {
     "name": "stdout",
     "output_type": "stream",
     "text": [
      "JSON File Generated\n"
     ]
    }
   ],
   "source": [
    "info_crawler_process = CrawlerProcess({\n",
    "    'USER_AGENT': 'Mozilla/5.0 (compatible; MSIE 7.0; Windows NT 5.1)'\n",
    "})\n",
    "\n",
    "info_crawler_process.crawl(InfoSpider)\n",
    "info_crawler_process.start()"
   ]
  },
  {
   "cell_type": "code",
   "execution_count": 4,
   "metadata": {
    "scrolled": true
   },
   "outputs": [
    {
     "name": "stdout",
     "output_type": "stream",
     "text": [
      "21\n"
     ]
    },
    {
     "data": {
      "text/plain": [
       "[{'price': ['$69.99'],\n",
       "  'description': ['7\" screen, Android'],\n",
       "  'product': 'Lenovo IdeaTab',\n",
       "  'review': '7 reviews'},\n",
       " {'price': ['$88.99'],\n",
       "  'description': ['Black, 7\" IPS, Quad-Core 1.2GHz, 8GB, Android 4.2'],\n",
       "  'product': 'IdeaTab A3500L',\n",
       "  'review': '7 reviews'},\n",
       " {'price': ['$96.99'],\n",
       "  'description': ['7\" screen, Android, 16GB'],\n",
       "  'product': 'Acer Iconia',\n",
       "  'review': '7 reviews'},\n",
       " {'price': ['$97.99'],\n",
       "  'description': ['7\", 8GB, Wi-Fi, Android 4.2, White'],\n",
       "  'product': 'Galaxy Tab 3',\n",
       "  'review': '2 reviews'},\n",
       " {'price': ['$99.99'],\n",
       "  'description': ['Black, 7\", 1.6GHz Dual-Core, 8GB, Android 4.4'],\n",
       "  'product': 'Iconia B1-730HD',\n",
       "  'review': '1 reviews'},\n",
       " {'price': ['$101.99'],\n",
       "  'description': ['IPS, Dual-Core 1.2GHz, 8GB, Android 4.3'],\n",
       "  'product': 'Memo Pad HD 7',\n",
       "  'review': '10 reviews'},\n",
       " {'price': ['$102.99'],\n",
       "  'description': ['7\" screen, Android, 8GB'],\n",
       "  'product': 'Asus MeMO Pad',\n",
       "  'review': '14 reviews'},\n",
       " {'price': ['$103.99'],\n",
       "  'description': ['6\" screen, wifi'],\n",
       "  'product': 'Amazon Kindle',\n",
       "  'review': '3 reviews'},\n",
       " {'price': ['$107.99'],\n",
       "  'description': ['7\", 8GB, Wi-Fi, Android 4.2, Yellow'],\n",
       "  'product': 'Galaxy Tab 3',\n",
       "  'review': '14 reviews'},\n",
       " {'price': ['$121.99'],\n",
       "  'description': ['Blue, 8\" IPS, Quad-Core 1.3GHz, 16GB, Android 4.2'],\n",
       "  'product': 'IdeaTab A8-50',\n",
       "  'review': '13 reviews'},\n",
       " {'price': ['$130.99'],\n",
       "  'description': ['White, 7\", Atom 1.2GHz, 8GB, Android 4.4'],\n",
       "  'product': 'MeMO Pad 7',\n",
       "  'review': '11 reviews'},\n",
       " {'price': ['$148.99'],\n",
       "  'description': ['Blue, 7\" IPS, Quad-Core 1.3GHz, 8GB, 3G, Android 4.2'],\n",
       "  'product': 'IdeaTab A3500-H',\n",
       "  'review': '9 reviews'},\n",
       " {'price': ['$172.99'],\n",
       "  'description': ['Silver, 7\" IPS, Quad-Core 1.2Ghz, 16GB, 3G, Android 4.2'],\n",
       "  'product': 'IdeaTab S5000',\n",
       "  'review': '8 reviews'},\n",
       " {'price': ['$233.99'],\n",
       "  'description': ['LTE (SM-T235), Quad-Core 1.2GHz, 8GB, Black'],\n",
       "  'product': 'Galaxy Tab 4',\n",
       "  'review': '1 reviews'},\n",
       " {'price': ['$251.99'],\n",
       "  'description': ['16GB, White'],\n",
       "  'product': 'Galaxy Tab',\n",
       "  'review': '14 reviews'},\n",
       " {'price': ['$320.99'],\n",
       "  'description': ['White, 10.1\" IPS, 1.6GHz, 2GB, 16GB, Android 4.2'],\n",
       "  'product': 'MeMo PAD FHD 10',\n",
       "  'review': '7 reviews'},\n",
       " {'price': ['$399.99'],\n",
       "  'description': ['10.1\", 3G, Android 4.0, Garnet Red'],\n",
       "  'product': 'Galaxy Note',\n",
       "  'review': '12 reviews'},\n",
       " {'price': ['$489.99'],\n",
       "  'description': ['12.2\", 32GB, WiFi, Android 4.4, White'],\n",
       "  'product': 'Galaxy Note',\n",
       "  'review': '9 reviews'},\n",
       " {'price': ['$537.99'],\n",
       "  'description': ['Wi-Fi + Cellular, 32GB, Silver'],\n",
       "  'product': 'iPad Mini Retina',\n",
       "  'review': '8 reviews'},\n",
       " {'price': ['$587.99'],\n",
       "  'description': ['10.1\", 32GB, Black'],\n",
       "  'product': 'Galaxy Note 10.1',\n",
       "  'review': '6 reviews'},\n",
       " {'price': ['$603.99'],\n",
       "  'description': ['Wi-Fi, 64GB, Silver'],\n",
       "  'product': 'Apple iPad Air',\n",
       "  'review': '7 reviews'}]"
      ]
     },
     "execution_count": 4,
     "metadata": {},
     "output_type": "execute_result"
    }
   ],
   "source": [
    "import json\n",
    "\n",
    "with open('result.json') as f:\n",
    "    data = [json.loads(line) for line in f]\n",
    "    f.close()\n",
    "print(len(data))\n",
    "data"
   ]
  },
  {
   "cell_type": "markdown",
   "metadata": {},
   "source": [
    "#### There are total of 21 items."
   ]
  },
  {
   "cell_type": "code",
   "execution_count": 5,
   "metadata": {
    "scrolled": false
   },
   "outputs": [
    {
     "name": "stdout",
     "output_type": "stream",
     "text": [
      "Number of Apple Products:  2\n"
     ]
    },
    {
     "data": {
      "text/plain": [
       "'Return Result :'"
      ]
     },
     "metadata": {},
     "output_type": "display_data"
    },
    {
     "data": {
      "text/plain": [
       "[{'price': ['$537.99'],\n",
       "  'description': ['Wi-Fi + Cellular, 32GB, Silver'],\n",
       "  'product': 'iPad Mini Retina',\n",
       "  'review': '8 reviews'},\n",
       " {'price': ['$603.99'],\n",
       "  'description': ['Wi-Fi, 64GB, Silver'],\n",
       "  'product': 'Apple iPad Air',\n",
       "  'review': '7 reviews'}]"
      ]
     },
     "metadata": {},
     "output_type": "display_data"
    }
   ],
   "source": [
    "#while examining the scraped data, I noticed that keyword 'Android' does not neccessarily appear\n",
    "#in all product or description. Some products such as Memo and IdeaTab actually runs on 'Android' but\n",
    "#does not have the keyword 'Android' in its descriptions.\n",
    "#Likewise, Ipad is clearly an apple product. But there are some entries without 'apple' keyword.\n",
    "#Therefore, a list of android and apple keywords are created to enrich the search critieria. \n",
    " \n",
    "def searchbybrand(s):\n",
    "    result=[]\n",
    "    \n",
    "    androidkeyword=['android','galaxy','memo','ideatab','iconia' ]\n",
    "    applekeyword=['apple', 'ipad']\n",
    "    if s in str(androidkeyword).lower():\n",
    "        for i in data:   \n",
    "               # print(i['description'])\n",
    "                #print(any(elem.lower() in androidkeyword for elem in i['description']))\n",
    "\n",
    "               # print(i['product'])\n",
    "               # print(any(elem  in i['product'].lower() for elem in androidkeyword))\n",
    "                if any(elem.lower() in androidkeyword for elem in i['description']) or\\\n",
    "                   any(elem  in i['product'].lower() for elem in androidkeyword): \n",
    "                       result.append(i) \n",
    "                \n",
    "         \n",
    "                \n",
    "    elif s in str(applekeyword).lower():\n",
    "        for i in data:   \n",
    "           # print(i['description'])\n",
    "          #  print(any(elem.lower() in applekeyword for elem in i['description']))\n",
    "\n",
    "           # print(i['product'])\n",
    "          #  print(any(elem  in i['product'].lower() for elem in applekeyword))\n",
    "            if any(elem.lower() in applekeyword for elem in i['description']) or\\\n",
    "                   any(elem  in i['product'].lower() for elem in applekeyword): \n",
    "                       result.append(i) \n",
    "        \n",
    "    return (result, len(result))\n",
    "\n",
    "\n",
    "            \n",
    "r,l=searchbybrand('apple')\n",
    "print('Number of Apple Products: ', l)\n",
    "display(\"Return Result :\",r)"
   ]
  },
  {
   "cell_type": "code",
   "execution_count": 6,
   "metadata": {},
   "outputs": [
    {
     "name": "stdout",
     "output_type": "stream",
     "text": [
      "Number of Android Products:  18\n"
     ]
    },
    {
     "data": {
      "text/plain": [
       "'Return Result :'"
      ]
     },
     "metadata": {},
     "output_type": "display_data"
    },
    {
     "data": {
      "text/plain": [
       "[{'price': ['$69.99'],\n",
       "  'description': ['7\" screen, Android'],\n",
       "  'product': 'Lenovo IdeaTab',\n",
       "  'review': '7 reviews'},\n",
       " {'price': ['$88.99'],\n",
       "  'description': ['Black, 7\" IPS, Quad-Core 1.2GHz, 8GB, Android 4.2'],\n",
       "  'product': 'IdeaTab A3500L',\n",
       "  'review': '7 reviews'},\n",
       " {'price': ['$96.99'],\n",
       "  'description': ['7\" screen, Android, 16GB'],\n",
       "  'product': 'Acer Iconia',\n",
       "  'review': '7 reviews'},\n",
       " {'price': ['$97.99'],\n",
       "  'description': ['7\", 8GB, Wi-Fi, Android 4.2, White'],\n",
       "  'product': 'Galaxy Tab 3',\n",
       "  'review': '2 reviews'},\n",
       " {'price': ['$99.99'],\n",
       "  'description': ['Black, 7\", 1.6GHz Dual-Core, 8GB, Android 4.4'],\n",
       "  'product': 'Iconia B1-730HD',\n",
       "  'review': '1 reviews'},\n",
       " {'price': ['$101.99'],\n",
       "  'description': ['IPS, Dual-Core 1.2GHz, 8GB, Android 4.3'],\n",
       "  'product': 'Memo Pad HD 7',\n",
       "  'review': '10 reviews'},\n",
       " {'price': ['$102.99'],\n",
       "  'description': ['7\" screen, Android, 8GB'],\n",
       "  'product': 'Asus MeMO Pad',\n",
       "  'review': '14 reviews'},\n",
       " {'price': ['$107.99'],\n",
       "  'description': ['7\", 8GB, Wi-Fi, Android 4.2, Yellow'],\n",
       "  'product': 'Galaxy Tab 3',\n",
       "  'review': '14 reviews'},\n",
       " {'price': ['$121.99'],\n",
       "  'description': ['Blue, 8\" IPS, Quad-Core 1.3GHz, 16GB, Android 4.2'],\n",
       "  'product': 'IdeaTab A8-50',\n",
       "  'review': '13 reviews'},\n",
       " {'price': ['$130.99'],\n",
       "  'description': ['White, 7\", Atom 1.2GHz, 8GB, Android 4.4'],\n",
       "  'product': 'MeMO Pad 7',\n",
       "  'review': '11 reviews'},\n",
       " {'price': ['$148.99'],\n",
       "  'description': ['Blue, 7\" IPS, Quad-Core 1.3GHz, 8GB, 3G, Android 4.2'],\n",
       "  'product': 'IdeaTab A3500-H',\n",
       "  'review': '9 reviews'},\n",
       " {'price': ['$172.99'],\n",
       "  'description': ['Silver, 7\" IPS, Quad-Core 1.2Ghz, 16GB, 3G, Android 4.2'],\n",
       "  'product': 'IdeaTab S5000',\n",
       "  'review': '8 reviews'},\n",
       " {'price': ['$233.99'],\n",
       "  'description': ['LTE (SM-T235), Quad-Core 1.2GHz, 8GB, Black'],\n",
       "  'product': 'Galaxy Tab 4',\n",
       "  'review': '1 reviews'},\n",
       " {'price': ['$251.99'],\n",
       "  'description': ['16GB, White'],\n",
       "  'product': 'Galaxy Tab',\n",
       "  'review': '14 reviews'},\n",
       " {'price': ['$320.99'],\n",
       "  'description': ['White, 10.1\" IPS, 1.6GHz, 2GB, 16GB, Android 4.2'],\n",
       "  'product': 'MeMo PAD FHD 10',\n",
       "  'review': '7 reviews'},\n",
       " {'price': ['$399.99'],\n",
       "  'description': ['10.1\", 3G, Android 4.0, Garnet Red'],\n",
       "  'product': 'Galaxy Note',\n",
       "  'review': '12 reviews'},\n",
       " {'price': ['$489.99'],\n",
       "  'description': ['12.2\", 32GB, WiFi, Android 4.4, White'],\n",
       "  'product': 'Galaxy Note',\n",
       "  'review': '9 reviews'},\n",
       " {'price': ['$587.99'],\n",
       "  'description': ['10.1\", 32GB, Black'],\n",
       "  'product': 'Galaxy Note 10.1',\n",
       "  'review': '6 reviews'}]"
      ]
     },
     "metadata": {},
     "output_type": "display_data"
    }
   ],
   "source": [
    "r2,l2=searchbybrand('android')\n",
    "\n",
    "print('Number of Android Products: ', l2)\n",
    "display(\"Return Result :\",r2)\n"
   ]
  },
  {
   "cell_type": "markdown",
   "metadata": {},
   "source": [
    "#### Amazon Kindle is neither Andoid or Apple. Therefore, both lists do not contain Kindle. \n",
    "#### The total for both andoid and apple list is 20 items. (Excluding Kindle).\n"
   ]
  },
  {
   "cell_type": "code",
   "execution_count": null,
   "metadata": {},
   "outputs": [],
   "source": []
  }
 ],
 "metadata": {
  "kernelspec": {
   "display_name": "Python 3",
   "language": "python",
   "name": "python3"
  },
  "language_info": {
   "codemirror_mode": {
    "name": "ipython",
    "version": 3
   },
   "file_extension": ".py",
   "mimetype": "text/x-python",
   "name": "python",
   "nbconvert_exporter": "python",
   "pygments_lexer": "ipython3",
   "version": "3.7.7"
  }
 },
 "nbformat": 4,
 "nbformat_minor": 4
}
